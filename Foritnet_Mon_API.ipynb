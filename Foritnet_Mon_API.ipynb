{
 "cells": [
  {
   "cell_type": "code",
   "execution_count": 1,
   "metadata": {},
   "outputs": [],
   "source": [
    "#Fortinet Monitor API\n",
    "import requests\n",
    "from requests.auth import HTTPDigestAuth\n",
    "import json"
   ]
  },
  {
   "cell_type": "code",
   "execution_count": 2,
   "metadata": {},
   "outputs": [
    {
     "name": "stdout",
     "output_type": "stream",
     "text": [
      "200\n"
     ]
    }
   ],
   "source": [
    "#Authenticate with Fortinet to get access token\n",
    "url = \"http://192.168.46.2/logincheck\"\n",
    "myResponse = requests.post(url, data={'username':'admin','secretkey':'admin'})\n",
    "print (myResponse.status_code)"
   ]
  },
  {
   "cell_type": "code",
   "execution_count": null,
   "metadata": {},
   "outputs": [],
   "source": [
    "#Print Cookie if response is 200\n",
    "if(myResponse.ok):\n",
    "    cookie = myResponse.headers['Set-Cookie']\n",
    "    print(cookie)"
   ]
  },
  {
   "cell_type": "code",
   "execution_count": null,
   "metadata": {},
   "outputs": [],
   "source": [
    "#List traffic statistics for all IPv4 policies\n",
    "result = requests.get(\"http://192.168.46.2/api/v2/monitor/firewall/policy/\", headers={\"Cookie\":cookie})\n",
    "result = result.json()\n",
    "print (result)"
   ]
  },
  {
   "cell_type": "code",
   "execution_count": null,
   "metadata": {},
   "outputs": [],
   "source": [
    "#Retreive current and historical usage data for a provided resource. \n",
    "result1 = requests.get(\"http://192.168.46.2/api/v2/monitor/system/resource/usage/\", headers={\"Cookie\":cookie})\n",
    "result1 = result1.json()\n",
    "print (result1)"
   ]
  },
  {
   "cell_type": "code",
   "execution_count": null,
   "metadata": {},
   "outputs": [],
   "source": [
    "#Retrieve a list of active IPv4 policy routes. \n",
    "result2 = requests.get(\"http://192.168.46.2/api/v2/monitor/router/policy/select/\", headers={\"Cookie\":cookie})\n",
    "result2 = result2.json()\n",
    "print (result2)"
   ]
  }
 ],
 "metadata": {
  "kernelspec": {
   "display_name": "Python 3",
   "language": "python",
   "name": "python3"
  },
  "language_info": {
   "codemirror_mode": {
    "name": "ipython",
    "version": 3
   },
   "file_extension": ".py",
   "mimetype": "text/x-python",
   "name": "python",
   "nbconvert_exporter": "python",
   "pygments_lexer": "ipython3",
   "version": "3.7.0"
  }
 },
 "nbformat": 4,
 "nbformat_minor": 2
}
